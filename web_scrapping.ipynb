{
 "cells": [
  {
   "cell_type": "code",
   "execution_count": 3,
   "id": "ccc6668e-fceb-4c2a-9fb9-c9f82d84b09c",
   "metadata": {},
   "outputs": [],
   "source": [
    "from flask import Flask, render_template, request,jsonify\n",
    "from flask_cors import CORS,cross_origin\n",
    "import requests\n",
    "from bs4 import BeautifulSoup as bs\n",
    "from urllib.request import urlopen as uReq"
   ]
  },
  {
   "cell_type": "code",
   "execution_count": 4,
   "id": "678b4b6d-8aa9-4b59-97b9-64542ce714c1",
   "metadata": {},
   "outputs": [
    {
     "name": "stdout",
     "output_type": "stream",
     "text": [
      "Requirement already satisfied: flask in /opt/conda/lib/python3.10/site-packages (3.0.0)\n",
      "Requirement already satisfied: blinker>=1.6.2 in /opt/conda/lib/python3.10/site-packages (from flask) (1.6.3)\n",
      "Requirement already satisfied: Werkzeug>=3.0.0 in /opt/conda/lib/python3.10/site-packages (from flask) (3.0.1)\n",
      "Requirement already satisfied: itsdangerous>=2.1.2 in /opt/conda/lib/python3.10/site-packages (from flask) (2.1.2)\n",
      "Requirement already satisfied: Jinja2>=3.1.2 in /opt/conda/lib/python3.10/site-packages (from flask) (3.1.2)\n",
      "Requirement already satisfied: click>=8.1.3 in /opt/conda/lib/python3.10/site-packages (from flask) (8.1.3)\n",
      "Requirement already satisfied: MarkupSafe>=2.0 in /opt/conda/lib/python3.10/site-packages (from Jinja2>=3.1.2->flask) (2.1.1)\n",
      "Note: you may need to restart the kernel to use updated packages.\n"
     ]
    }
   ],
   "source": [
    "pip install flask"
   ]
  },
  {
   "cell_type": "code",
   "execution_count": 5,
   "id": "1ae95e2c-1b0a-413d-b5ef-85c85c9a204b",
   "metadata": {},
   "outputs": [
    {
     "name": "stdout",
     "output_type": "stream",
     "text": [
      "Requirement already satisfied: flask_cors in /opt/conda/lib/python3.10/site-packages (4.0.0)\n",
      "Requirement already satisfied: Flask>=0.9 in /opt/conda/lib/python3.10/site-packages (from flask_cors) (3.0.0)\n",
      "Requirement already satisfied: Jinja2>=3.1.2 in /opt/conda/lib/python3.10/site-packages (from Flask>=0.9->flask_cors) (3.1.2)\n",
      "Requirement already satisfied: Werkzeug>=3.0.0 in /opt/conda/lib/python3.10/site-packages (from Flask>=0.9->flask_cors) (3.0.1)\n",
      "Requirement already satisfied: blinker>=1.6.2 in /opt/conda/lib/python3.10/site-packages (from Flask>=0.9->flask_cors) (1.6.3)\n",
      "Requirement already satisfied: itsdangerous>=2.1.2 in /opt/conda/lib/python3.10/site-packages (from Flask>=0.9->flask_cors) (2.1.2)\n",
      "Requirement already satisfied: click>=8.1.3 in /opt/conda/lib/python3.10/site-packages (from Flask>=0.9->flask_cors) (8.1.3)\n",
      "Requirement already satisfied: MarkupSafe>=2.0 in /opt/conda/lib/python3.10/site-packages (from Jinja2>=3.1.2->Flask>=0.9->flask_cors) (2.1.1)\n",
      "Note: you may need to restart the kernel to use updated packages.\n"
     ]
    }
   ],
   "source": [
    "pip install flask_cors"
   ]
  },
  {
   "cell_type": "code",
   "execution_count": 52,
   "id": "d74f7ec3-90d1-4776-ae6b-a31c4d34b734",
   "metadata": {},
   "outputs": [],
   "source": [
    "searchstring = \"iphone11\""
   ]
  },
  {
   "cell_type": "code",
   "execution_count": 53,
   "id": "5fe169ab-5cdf-45f1-8065-fbfc48d15e4f",
   "metadata": {},
   "outputs": [],
   "source": [
    "f = \"https://www.ebay.com/sch/i.html?_from=R40&_trksid=p2334524.m570.l1313&_nkw=\""
   ]
  },
  {
   "cell_type": "code",
   "execution_count": null,
   "id": "5da5129c-1010-4e95-abb1-c8719455703d",
   "metadata": {},
   "outputs": [],
   "source": []
  },
  {
   "cell_type": "code",
   "execution_count": 54,
   "id": "73a30eb0-7dcc-4725-92cc-aaf6642aae80",
   "metadata": {},
   "outputs": [],
   "source": [
    "j = f + searchstring"
   ]
  },
  {
   "cell_type": "code",
   "execution_count": 55,
   "id": "5851a1d5-63db-4b7f-ab20-7671f6df94a4",
   "metadata": {},
   "outputs": [
    {
     "data": {
      "text/plain": [
       "'https://www.ebay.com/sch/i.html?_from=R40&_trksid=p2334524.m570.l1313&_nkw=iphone11'"
      ]
     },
     "execution_count": 55,
     "metadata": {},
     "output_type": "execute_result"
    }
   ],
   "source": [
    "j"
   ]
  },
  {
   "cell_type": "code",
   "execution_count": 56,
   "id": "b2e0c287-e463-4d3c-b6d2-d2a16aca178e",
   "metadata": {},
   "outputs": [],
   "source": [
    "flipcart_url =j"
   ]
  },
  {
   "cell_type": "code",
   "execution_count": 57,
   "id": "f9a2d7c9-0db8-4867-891c-0604cc67852d",
   "metadata": {},
   "outputs": [
    {
     "data": {
      "text/plain": [
       "'https://www.ebay.com/sch/i.html?_from=R40&_trksid=p2334524.m570.l1313&_nkw=iphone11'"
      ]
     },
     "execution_count": 57,
     "metadata": {},
     "output_type": "execute_result"
    }
   ],
   "source": [
    "flipcart_url"
   ]
  },
  {
   "cell_type": "raw",
   "id": "62f1fcf3-1154-418f-b8a5-51de3a3d856d",
   "metadata": {},
   "source": []
  },
  {
   "cell_type": "code",
   "execution_count": 59,
   "id": "27597442-2b09-4fb9-bcc4-aa590f5c0d9f",
   "metadata": {},
   "outputs": [],
   "source": [
    "uclient = uReq(flipcart_url)"
   ]
  },
  {
   "cell_type": "code",
   "execution_count": 60,
   "id": "b270c161-3433-4598-b926-977058de8c01",
   "metadata": {},
   "outputs": [
    {
     "data": {
      "text/plain": [
       "<http.client.HTTPResponse at 0x7f6797207a60>"
      ]
     },
     "execution_count": 60,
     "metadata": {},
     "output_type": "execute_result"
    }
   ],
   "source": [
    "uclient"
   ]
  },
  {
   "cell_type": "code",
   "execution_count": 64,
   "id": "1427fcec-2538-4152-8fcb-b036d8a70a5b",
   "metadata": {},
   "outputs": [],
   "source": [
    "flipkartpage = uclient.read()"
   ]
  },
  {
   "cell_type": "code",
   "execution_count": 65,
   "id": "198110b6-6064-474f-a52b-c905166e8929",
   "metadata": {},
   "outputs": [],
   "source": [
    "flipkart_html = bs(flipkartpage ,\"html.parser\")"
   ]
  },
  {
   "cell_type": "code",
   "execution_count": null,
   "id": "1c81209c-156c-4b83-8b4f-b7196fbd7dc0",
   "metadata": {},
   "outputs": [],
   "source": []
  },
  {
   "cell_type": "code",
   "execution_count": null,
   "id": "9c3315db-a4ee-4ebf-9c0e-1866e2ac6989",
   "metadata": {},
   "outputs": [],
   "source": []
  },
  {
   "cell_type": "code",
   "execution_count": 17,
   "id": "2139e755-f7a0-4b13-8708-19a0faa1995a",
   "metadata": {},
   "outputs": [],
   "source": [
    "bigboxes = flipkart_html.findAll(\"div\" , {\"class\": \"s-item__wrapper clearfix\"})"
   ]
  },
  {
   "cell_type": "code",
   "execution_count": 18,
   "id": "91cffd55-508c-471a-9a89-8b883793d71d",
   "metadata": {},
   "outputs": [
    {
     "data": {
      "text/plain": [
       "76"
      ]
     },
     "execution_count": 18,
     "metadata": {},
     "output_type": "execute_result"
    }
   ],
   "source": [
    "len(bigboxes)"
   ]
  },
  {
   "cell_type": "code",
   "execution_count": 19,
   "id": "24506a26-69c6-43f3-a0d5-7c125425823f",
   "metadata": {},
   "outputs": [],
   "source": [
    "box = bigboxes[2]"
   ]
  },
  {
   "cell_type": "code",
   "execution_count": 20,
   "id": "7c97c9d7-8e5d-42e2-a2f5-50fb39862c7e",
   "metadata": {},
   "outputs": [],
   "source": [
    "productlink = box.div.div.a['href']\n"
   ]
  },
  {
   "cell_type": "code",
   "execution_count": 21,
   "id": "1decd389-b38f-4dea-83f3-762302e94593",
   "metadata": {},
   "outputs": [
    {
     "data": {
      "text/plain": [
       "'https://www.ebay.com/itm/155744362673?epid=18045314698&hash=item24431660b1:g:iAsAAOSwYtlk7kK3&amdata=enc%3AAQAIAAAA4DmbxRbZaWEFIXaIG%2BZihxFYmczq9FuMJ2w4iskXXSUN1hxx7pFofz1SybMMYAHQscxatvtwnr77Y5tooxOeq%2FcMcqOJXxZR74FzuFj1DXOrQHCVUZFwqJveZ97LAIaB5XwEnjjR5KTargWegUu468hJUhg1jGELesLFWY%2Bn%2BheBzc%2F3pFykmbMQKSJKvDg2jze61JjlYG51RG5Y5JzdRvGEyOyniGpAocfFR%2FYosxLjeB%2BqoqTjSVCzRYYqMENZuEp%2B2UIEzDni1oQvJpbml9FZkPsPB7tKILl4K27vE7jM%7Ctkp%3ABFBMmrrOwe1i'"
      ]
     },
     "execution_count": 21,
     "metadata": {},
     "output_type": "execute_result"
    }
   ],
   "source": [
    "productlink"
   ]
  },
  {
   "cell_type": "code",
   "execution_count": 22,
   "id": "6b43e593-3075-4fe5-a775-e5ebbdfbaa57",
   "metadata": {},
   "outputs": [
    {
     "data": {
      "text/plain": [
       "<Response [200]>"
      ]
     },
     "execution_count": 22,
     "metadata": {},
     "output_type": "execute_result"
    }
   ],
   "source": [
    "requests.get(productlink)"
   ]
  },
  {
   "cell_type": "code",
   "execution_count": 23,
   "id": "fc562646-5f0c-40e0-850f-dea3cf49c492",
   "metadata": {},
   "outputs": [],
   "source": [
    "productreq = requests.get(productlink)"
   ]
  },
  {
   "cell_type": "code",
   "execution_count": 24,
   "id": "3635a05e-2f14-40d6-9ced-bb2137a67dff",
   "metadata": {},
   "outputs": [],
   "source": [
    "prod_html = bs(productreq.text , \"html.parser\")"
   ]
  },
  {
   "cell_type": "code",
   "execution_count": null,
   "id": "3dc828a1-7647-4007-bb10-87f940d5b9e4",
   "metadata": {},
   "outputs": [],
   "source": []
  },
  {
   "cell_type": "code",
   "execution_count": 25,
   "id": "bd18eaaf-2fd1-4186-a16c-f10cc2a83f4e",
   "metadata": {},
   "outputs": [],
   "source": [
    "comment_box = prod_html.find_all(\"div\", {\"class\": \"fdbk-container__details__comment\"})"
   ]
  },
  {
   "cell_type": "code",
   "execution_count": 26,
   "id": "c4f37f34-cbf9-48da-8899-827ebc442cfd",
   "metadata": {},
   "outputs": [
    {
     "data": {
      "text/plain": [
       "6"
      ]
     },
     "execution_count": 26,
     "metadata": {},
     "output_type": "execute_result"
    }
   ],
   "source": [
    "len(comment_box)"
   ]
  },
  {
   "cell_type": "code",
   "execution_count": 27,
   "id": "6e93d68a-ea2c-4deb-88be-a3a2ff6b5d08",
   "metadata": {},
   "outputs": [
    {
     "data": {
      "text/plain": [
       "'the item received was exactly as described, with very fast shipping.'"
      ]
     },
     "execution_count": 27,
     "metadata": {},
     "output_type": "execute_result"
    }
   ],
   "source": [
    "comment_box[0].text"
   ]
  },
  {
   "cell_type": "code",
   "execution_count": 28,
   "id": "69b7281e-0fbe-4417-abbf-290b6dddeaac",
   "metadata": {},
   "outputs": [
    {
     "name": "stdout",
     "output_type": "stream",
     "text": [
      "the item received was exactly as described, with very fast shipping.\n",
      "\n",
      "Great purchase and was as described! \n",
      "\n",
      "Great product \n",
      "\n",
      "Great thanks !! \n",
      "\n",
      "Thanks!\n",
      "\n",
      "I was not able to check the phone on time because I bought the phone for work in another country.  The seller was understanding and returned the money.  Great Communication. THANK YOU SO MUCH 🙏🏻🙏🏻🙏🏻\n",
      "\n"
     ]
    }
   ],
   "source": [
    "for i in comment_box:\n",
    "    print(i.text+\"\\n\")"
   ]
  },
  {
   "cell_type": "code",
   "execution_count": 33,
   "id": "cf1851b2-242a-485e-85c2-124e76e832c4",
   "metadata": {},
   "outputs": [
    {
     "data": {
      "text/plain": [
       "<div class=\"fdbk-container__details__comment\"><!--F#3--><!--F#4--><span>Great purchase and was as described! </span><!--F/--><!--F/--></div>"
      ]
     },
     "execution_count": 33,
     "metadata": {},
     "output_type": "execute_result"
    }
   ],
   "source": [
    "comment_box[1]\n"
   ]
  },
  {
   "cell_type": "code",
   "execution_count": null,
   "id": "877dd375-ac97-4799-b645-3800654f5f8d",
   "metadata": {},
   "outputs": [],
   "source": []
  },
  {
   "cell_type": "code",
   "execution_count": null,
   "id": "b051883d-1b8d-4602-9410-069dece2b090",
   "metadata": {},
   "outputs": [],
   "source": []
  }
 ],
 "metadata": {
  "kernelspec": {
   "display_name": "Python 3 (ipykernel)",
   "language": "python",
   "name": "python3"
  },
  "language_info": {
   "codemirror_mode": {
    "name": "ipython",
    "version": 3
   },
   "file_extension": ".py",
   "mimetype": "text/x-python",
   "name": "python",
   "nbconvert_exporter": "python",
   "pygments_lexer": "ipython3",
   "version": "3.10.6"
  }
 },
 "nbformat": 4,
 "nbformat_minor": 5
}
